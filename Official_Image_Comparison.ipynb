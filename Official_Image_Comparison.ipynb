{
  "nbformat": 4,
  "nbformat_minor": 0,
  "metadata": {
    "colab": {
      "provenance": [],
      "collapsed_sections": []
    },
    "kernelspec": {
      "name": "python3",
      "display_name": "Python 3"
    },
    "language_info": {
      "name": "python"
    }
  },
  "cells": [
    {
      "cell_type": "markdown",
      "source": [
        "**Student Name:** Kian Johnston\n",
        "\n",
        "**Student Number:** 21262357"
      ],
      "metadata": {
        "id": "2fW2DN5rURwC"
      }
    },
    {
      "cell_type": "markdown",
      "source": [
        "# Image Comparison"
      ],
      "metadata": {
        "id": "8rr0WRzJpPmA"
      }
    },
    {
      "cell_type": "markdown",
      "source": [
        "This is code to prove the image comparison idea on two Images"
      ],
      "metadata": {
        "id": "nfK2CSAhpR_0"
      }
    },
    {
      "cell_type": "markdown",
      "source": [
        "## Install and Imports"
      ],
      "metadata": {
        "id": "1XQuuLYfXP7K"
      }
    },
    {
      "cell_type": "code",
      "source": [
        "# Python Imaging Library\n",
        "!pip install pillow"
      ],
      "metadata": {
        "colab": {
          "base_uri": "https://localhost:8080/"
        },
        "id": "AjGFC63SuvxN",
        "outputId": "53719667-dee2-4f02-ad44-3253bdb668de"
      },
      "execution_count": null,
      "outputs": [
        {
          "output_type": "stream",
          "name": "stdout",
          "text": [
            "Looking in indexes: https://pypi.org/simple, https://us-python.pkg.dev/colab-wheels/public/simple/\n",
            "Requirement already satisfied: pillow in /usr/local/lib/python3.7/dist-packages (7.1.2)\n"
          ]
        }
      ]
    },
    {
      "cell_type": "code",
      "execution_count": null,
      "metadata": {
        "id": "Q21LLmUAfKMn"
      },
      "outputs": [],
      "source": [
        "# Used for Plotting\n",
        "import matplotlib.pyplot as plt\n",
        "# Basic image loading, rescaling and display operations.\n",
        "import matplotlib.image as img\n",
        "# Used to work with arrays and matrix data structures\n",
        "import numpy as np\n",
        "# Python Imaging library that allows for more extensive editing capabilities\n",
        "from PIL import Image, ImageChops\n",
        "# For solving computer vision problems\n",
        "import cv2\n",
        "# cv2 has some issues and this solves it for colab\n",
        "from google.colab.patches import cv2_imshow"
      ]
    },
    {
      "cell_type": "markdown",
      "source": [
        "## Viewing Images"
      ],
      "metadata": {
        "id": "86_0sCjaXKGX"
      }
    },
    {
      "cell_type": "code",
      "source": [
        "#img = plt.imread(\"image.0038.jpg\")\n",
        "img = plt.imread('/content/drive/MyDrive/Seg_All/Seg4/image.0038.jpg')\n",
        "fig, ax = plt.subplots()\n",
        "img = ax.imshow(img)\t\n",
        "plt.show()"
      ],
      "metadata": {
        "colab": {
          "base_uri": "https://localhost:8080/",
          "height": 261
        },
        "id": "M2bO0TqSH1Nz",
        "outputId": "d7ff5aef-04eb-44bc-9eb0-9d2fe2b876a9"
      },
      "execution_count": null,
      "outputs": [
        {
          "output_type": "display_data",
          "data": {
            "text/plain": [
              "<Figure size 432x288 with 1 Axes>"
            ],
            "image/png": "[encoded data removed]"
          },
          "metadata": {
            "needs_background": "light"
          }
        }
      ]
    },
    {
      "cell_type": "code",
      "source": [
        "#img = plt.imread(\"image.0039.jpg\")\n",
        "img = plt.imread('/content/drive/MyDrive/Seg_All/Seg4/image.0039.jpg')\n",
        "fig, ax = plt.subplots()\n",
        "img = ax.imshow(img)\n",
        "plt.show()"
      ],
      "metadata": {
        "colab": {
          "base_uri": "https://localhost:8080/",
          "height": 261
        },
        "id": "gbkKznQjwu4k",
        "outputId": "16c818f9-a27a-46d3-cec4-b4b9e7585d2b"
      },
      "execution_count": null,
      "outputs": [
        {
          "output_type": "display_data",
          "data": {
            "text/plain": [
              "<Figure size 432x288 with 1 Axes>"
            ],
            "image/png": "[encoded data removed]"
          },
          "metadata": {
            "needs_background": "light"
          }
        }
      ]
    },
    {
      "cell_type": "code",
      "source": [
        "# Reading Image\n",
        "img = plt.imread('/content/drive/MyDrive/Seg_All/Seg4/image.0039.jpg')\n",
        "\n",
        "# Retrieving Height and Width of Image\n",
        "height, width, _ = img.shape\n",
        " \n",
        "# Area \n",
        "area = height * width\n",
        " \n",
        "# Displaying the area\n",
        "print(height)\n",
        "print(width)\n",
        "print(\"Area of the image is : \", area)"
      ],
      "metadata": {
        "colab": {
          "base_uri": "https://localhost:8080/"
        },
        "id": "INmMxClAhkNS",
        "outputId": "dddf57f5-8b80-4ddd-efa4-7a0c393b200c"
      },
      "execution_count": null,
      "outputs": [
        {
          "output_type": "stream",
          "name": "stdout",
          "text": [
            "899\n",
            "1442\n",
            "Area of the image is :  1296358\n"
          ]
        }
      ]
    },
    {
      "cell_type": "markdown",
      "source": [
        "## Finding Absolute Difference from two Images"
      ],
      "metadata": {
        "id": "Vx6QV3zeX089"
      }
    },
    {
      "cell_type": "code",
      "source": [
        "# Loading the Images\n",
        "#img1 = cv2.imread('image.0038.jpg')\n",
        "#img2 = cv2.imread('image.0039.jpg')\n",
        "img1 = cv2.imread('/content/drive/MyDrive/Seg_All/Seg4/image.0038.jpg')\n",
        "img2 = cv2.imread('/content/drive/MyDrive/Seg_All/Seg4/image.0039.jpg')\n",
        "\n",
        "# Converting the images to grayscale\n",
        "img1 = cv2.cvtColor(img1, cv2.COLOR_BGR2GRAY)\n",
        "img2 = cv2.cvtColor(img2, cv2.COLOR_BGR2GRAY)\n",
        "\n",
        "# Getting Mean Squared Error difference between the Images\n",
        "def mse(img1, img2):\n",
        "   # Height and Width of Image\n",
        "   h, w = img1.shape\n",
        "   # Absolute Difference between two Images\n",
        "   diff = cv2.absdiff(img1, img2)\n",
        "   # Calculating MSE using the difference\n",
        "   err = np.sum(diff**2)\n",
        "   mse = err/(float(h*w))\n",
        "   # Returning MSE and Difference Image\n",
        "   return mse, diff\n",
        "\n",
        "# Passing sequential Images into mse\n",
        "error, diff = mse(img1, img2)\n",
        "# Error between the two images\n",
        "print(\"Image matching Error between the two images:\",error)\n",
        "plt.title('Difference between the two images')\n",
        "plt.xlabel('Pixels x-axis')\n",
        "plt.ylabel('Pixels y-axis')\n",
        "plt.imshow(diff)"
      ],
      "metadata": {
        "colab": {
          "base_uri": "https://localhost:8080/",
          "height": 324
        },
        "id": "I7ELbyCEvyA0",
        "outputId": "0f5d9913-fb41-4aa8-8b2f-a83b4b2596a2"
      },
      "execution_count": null,
      "outputs": [
        {
          "output_type": "stream",
          "name": "stdout",
          "text": [
            "Image matching Error between the two images: 0.5602619029619904\n"
          ]
        },
        {
          "output_type": "execute_result",
          "data": {
            "text/plain": [
              "<matplotlib.image.AxesImage at 0x7f101847ae90>"
            ]
          },
          "metadata": {},
          "execution_count": 9
        },
        {
          "output_type": "display_data",
          "data": {
            "text/plain": [
              "<Figure size 432x288 with 1 Axes>"
            ],
            "image/png": "[encoded data removed]"
          },
          "metadata": {
            "needs_background": "light"
          }
        }
      ]
    }
  ]
}